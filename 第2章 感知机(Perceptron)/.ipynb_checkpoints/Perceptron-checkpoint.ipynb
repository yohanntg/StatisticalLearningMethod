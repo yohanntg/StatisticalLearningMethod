{
 "cells": [
  {
   "cell_type": "markdown",
   "metadata": {},
   "source": [
    "# 感知机"
   ]
  },
  {
   "cell_type": "code",
   "execution_count": 1,
   "metadata": {},
   "outputs": [],
   "source": [
    "import pandas as pd\n",
    "import numpy as np\n",
    "import matplotlib.pyplot as plt\n",
    "from sklearn.datasets import load_iris"
   ]
  },
  {
   "cell_type": "code",
   "execution_count": 2,
   "metadata": {},
   "outputs": [],
   "source": [
    "iris = load_iris()\n",
    "df = pd.DataFrame(iris.data, columns = iris.feature_names)\n",
    "df['label'] = iris.target\n",
    "\n",
    "df.columns = ['sepal length', 'sepal width', 'petal length', 'petal width', 'label']\n",
    "# print(df[:50])"
   ]
  },
  {
   "cell_type": "code",
   "execution_count": 3,
   "metadata": {},
   "outputs": [],
   "source": [
    "X = np.array(df.iloc[:100, [0,1]])\n",
    "y = np.array(df.iloc[:100, [-1]])\n",
    "y = np.array([1 if i == 1 else -1 for i in y[:,-1]])"
   ]
  },
  {
   "cell_type": "code",
   "execution_count": 4,
   "metadata": {},
   "outputs": [
    {
     "data": {
      "text/plain": [
       "<matplotlib.legend.Legend at 0x7f11a2629550>"
      ]
     },
     "execution_count": 4,
     "metadata": {},
     "output_type": "execute_result"
    },
    {
     "data": {
      "image/png": "[encoded data removed]",
      "text/plain": [
       "<Figure size 432x288 with 1 Axes>"
      ]
     },
     "metadata": {},
     "output_type": "display_data"
    }
   ],
   "source": [
    "plt.scatter(df[:50]['sepal length'], df[:50]['sepal width'], label='0')\n",
    "plt.scatter(df[50:100]['sepal length'], df[50:100]['sepal width'], label='1')\n",
    "plt.xlabel('sepal length')\n",
    "plt.ylabel('sepal width')\n",
    "plt.legend()"
   ]
  },
  {
   "cell_type": "markdown",
   "metadata": {},
   "source": [
    "## 感知机学习算法的原始形式"
   ]
  },
  {
   "cell_type": "code",
   "execution_count": 5,
   "metadata": {},
   "outputs": [],
   "source": [
    "class Model:\n",
    "    def __init__(self, learning_rate=0.1):\n",
    "        self.w = np.ones(2, dtype=np.float32)\n",
    "        self.b = 0\n",
    "        self.learning_rate = learning_rate\n",
    "    \n",
    "    def sign(self, w, b, x):\n",
    "        y = np.dot(x, w)+ b\n",
    "        if y>=0:\n",
    "            return 1\n",
    "        else:\n",
    "            return -1\n",
    "    \n",
    "    def fit(self, X, y):\n",
    "        flag = False\n",
    "        while not flag:\n",
    "            wrong_count = 0\n",
    "            for i in range(len(X)):\n",
    "                xx = X[i]\n",
    "                yy = y[i]\n",
    "                if yy * (np.dot(xx, self.w)+ self.b) <= 0:\n",
    "                    self.w = self.w + self.learning_rate*np.dot(yy, xx)\n",
    "                    self.b = self.b + self.learning_rate*yy\n",
    "                    wrong_count += 1\n",
    "            if wrong_count == 0:\n",
    "                flag = True\n",
    "                print(\"done\")"
   ]
  },
  {
   "cell_type": "code",
   "execution_count": 6,
   "metadata": {},
   "outputs": [
    {
     "name": "stdout",
     "output_type": "stream",
     "text": [
      "done\n"
     ]
    }
   ],
   "source": [
    "perceptron = Model(1)\n",
    "perceptron.fit(X, y)"
   ]
  },
  {
   "cell_type": "code",
   "execution_count": 7,
   "metadata": {},
   "outputs": [
    {
     "data": {
      "text/plain": [
       "<matplotlib.legend.Legend at 0x7f119ea0fc18>"
      ]
     },
     "execution_count": 7,
     "metadata": {},
     "output_type": "execute_result"
    },
    {
     "data": {
      "image/png": "[encoded data removed]",
      "text/plain": [
       "<Figure size 432x288 with 1 Axes>"
      ]
     },
     "metadata": {},
     "output_type": "display_data"
    }
   ],
   "source": [
    "x_points = np.linspace(4, 7,10)\n",
    "y_ = -(perceptron.w[0]*x_points + perceptron.b)/perceptron.w[1]\n",
    "plt.plot(x_points, y_)\n",
    "\n",
    "plt.plot(X[:50, 0], X[:50, 1], 'bo', color='blue', label='0')\n",
    "plt.plot(X[50:100, 0], X[50:100, 1], 'bo', color='orange', label='1')\n",
    "plt.xlabel('sepal length')\n",
    "plt.ylabel('sepal width')\n",
    "plt.legend()"
   ]
  },
  {
   "cell_type": "markdown",
   "metadata": {},
   "source": [
    "## 感知机学习算法的对偶形式"
   ]
  },
  {
   "cell_type": "code",
   "execution_count": 8,
   "metadata": {},
   "outputs": [],
   "source": [
    "X = np.array(df.iloc[:100, [0,1]])\n",
    "y = np.array(df.iloc[:100, [-1]])\n",
    "y = np.array([1 if i == 1 else -1 for i in y[:,-1]])\n",
    "\n",
    "class Model_dual:\n",
    "    def __init__(self, learning_rate= 1):\n",
    "        self.w = [0,0] # np.ones(2, dtype=np.float64)\n",
    "        self.b = 0\n",
    "        self.alpha = [0 for i in range(len(X))]\n",
    "        self.learning_rate = learning_rate\n",
    "    \n",
    "    def fit(self, X, y):\n",
    "        gram = np.matmul(X,X.T)\n",
    "        flag = False\n",
    "        while not flag:\n",
    "            wrong_count = 0\n",
    "            for i in range(len(X)):\n",
    "                yy = y[i]\n",
    "                temp = 0\n",
    "                for j in range(len(X)):\n",
    "                    temp += self.alpha[j]*y[j]*gram[i,j]\n",
    "                if yy * (temp + self.b) <= 0:\n",
    "                    self.alpha[i] = self.alpha[i] + self.learning_rate\n",
    "                    self.b = self.b + self.learning_rate*yy\n",
    "                    wrong_count += 1\n",
    "            if wrong_count == 0:\n",
    "                flag = True\n",
    "                print(\"done\")\n",
    "        for i in range(len(X)):\n",
    "            self.w += self.alpha[i]*X[i]*y[i]"
   ]
  },
  {
   "cell_type": "code",
   "execution_count": 9,
   "metadata": {},
   "outputs": [
    {
     "name": "stdout",
     "output_type": "stream",
     "text": [
      "done\n"
     ]
    }
   ],
   "source": [
    "model = Model_dual(1)\n",
    "model.fit(X, y)"
   ]
  },
  {
   "cell_type": "code",
   "execution_count": 10,
   "metadata": {},
   "outputs": [
    {
     "data": {
      "text/plain": [
       "<matplotlib.legend.Legend at 0x7f119e98fcf8>"
      ]
     },
     "execution_count": 10,
     "metadata": {},
     "output_type": "execute_result"
    },
    {
     "data": {
      "image/png": "[encoded data removed]",
      "text/plain": [
       "<Figure size 432x288 with 1 Axes>"
      ]
     },
     "metadata": {},
     "output_type": "display_data"
    }
   ],
   "source": [
    "x_points = np.linspace(4, 7,10)\n",
    "y_ = -(model.w[0]*x_points + model.b)/model.w[1]\n",
    "plt.plot(x_points, y_)\n",
    "\n",
    "plt.plot(X[:50, 0], X[:50, 1], 'bo', color='blue', label='0')\n",
    "plt.plot(X[50:100, 0], X[50:100, 1], 'bo', color='orange', label='1')\n",
    "plt.xlabel('sepal length')\n",
    "plt.ylabel('sepal width')\n",
    "plt.legend()"
   ]
  }
 ],
 "metadata": {
  "kernelspec": {
   "display_name": "Python 3",
   "language": "python",
   "name": "python3"
  },
  "language_info": {
   "codemirror_mode": {
    "name": "ipython",
    "version": 3
   },
   "file_extension": ".py",
   "mimetype": "text/x-python",
   "name": "python",
   "nbconvert_exporter": "python",
   "pygments_lexer": "ipython3",
   "version": "3.6.5"
  }
 },
 "nbformat": 4,
 "nbformat_minor": 2
}
