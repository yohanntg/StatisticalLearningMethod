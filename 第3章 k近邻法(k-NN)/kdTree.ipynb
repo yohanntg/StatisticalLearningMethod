{
 "cells": [
  {
   "cell_type": "markdown",
   "metadata": {},
   "source": [
    "# kdTree "
   ]
  },
  {
   "cell_type": "code",
   "execution_count": 28,
   "metadata": {},
   "outputs": [],
   "source": [
    "from collections import namedtuple\n",
    "from operator import itemgetter\n",
    "from pprint import pformat\n",
    "import numpy as np\n",
    "import math\n",
    "\n",
    "def distance(x, y, p=2):\n",
    "    # x1 = [1, 1], x2 = [5,1]\n",
    "    if len(x) == len(y) and len(x) > 1:\n",
    "        sum = 0\n",
    "        for i in range(len(x)):\n",
    "            sum += math.pow(abs(x[i] - y[i]), p)\n",
    "        return math.pow(sum, 1/p)\n",
    "    else:\n",
    "        return 0\n",
    "    \n",
    "class Node(namedtuple('Node', 'location left_child right_child')):\n",
    "    def __repr__(self):\n",
    "        return pformat(tuple(self))\n",
    "    \n",
    "class kdTree():\n",
    "    def __init__(self, points):\n",
    "        self.tree = self._make_kdtree(points)\n",
    "        if len(points) > 0:\n",
    "            self.k = len(points[0])\n",
    "        else:\n",
    "            self.k = None\n",
    "    \n",
    "    def _make_kdtree(self, points, depth=0):\n",
    "        if not points:\n",
    "            return None\n",
    "        \n",
    "        k = len(points[0])\n",
    "        axis = depth % k\n",
    "        \n",
    "        points.sort(key = itemgetter(axis))\n",
    "        median = len(points) // 2\n",
    "        \n",
    "        return Node(location = points[median], \n",
    "                   left_child = self._make_kdtree(points[:median], depth+1),\n",
    "                   right_child = self._make_kdtree(points[median+1:], depth+1))\n",
    "    \n",
    "    def find_nearest(self, point, root=None, axis=0):\n",
    "        if root is None:\n",
    "            root = self.tree\n",
    "            self.best = None\n",
    "        \n",
    "        # 找到临近的叶子节点\n",
    "        if root.left_child or root.right_child:\n",
    "            new_axis = (axis + 1) % self.k\n",
    "            if point[axis] < root.location[axis] and root.left_child:\n",
    "                self.find_nearest(point, root.left_child, new_axis)\n",
    "            elif root.right_child:\n",
    "                self.find_nearest(point, root.right_child, new_axis)\n",
    "        # 回溯 \n",
    "        dist = distance(root.location, point)\n",
    "        if self.best is None or dist < self.best[0]:\n",
    "            self.best = (dist, root.location)\n",
    "        \n",
    "        if abs(point[axis] - root.location[axis]) < self.best[0]:\n",
    "            new_axis = (axis + 1) % self.k\n",
    "            if root.left_child and point[axis] >= root.location[axis]:\n",
    "                self.find_nearest(point, root.left_child, new_axis)\n",
    "            elif root.right_child and point[axis] < root.location[axis]:\n",
    "                self.find_nearest(point, root.right_child, new_axis)\n",
    "        \n",
    "        return self.best  "
   ]
  },
  {
   "cell_type": "code",
   "execution_count": 29,
   "metadata": {},
   "outputs": [
    {
     "name": "stdout",
     "output_type": "stream",
     "text": [
      "(1.8027756377319946, [2, 3])\n"
     ]
    }
   ],
   "source": [
    "data = [[2,3],[5,4],[9,6],[4,7],[8,1],[7,2]]\n",
    "kd = kdTree(data)\n",
    "\n",
    "point = np.array([3,4.5])\n",
    "print( kd.find_nearest(point) )\n"
   ]
  }
 ],
 "metadata": {
  "kernelspec": {
   "display_name": "Python 3",
   "language": "python",
   "name": "python3"
  },
  "language_info": {
   "codemirror_mode": {
    "name": "ipython",
    "version": 3
   },
   "file_extension": ".py",
   "mimetype": "text/x-python",
   "name": "python",
   "nbconvert_exporter": "python",
   "pygments_lexer": "ipython3",
   "version": "3.6.5"
  }
 },
 "nbformat": 4,
 "nbformat_minor": 2
}
