{
 "cells": [
  {
   "cell_type": "code",
   "execution_count": 119,
   "metadata": {},
   "outputs": [],
   "source": [
    "import numpy as np\n",
    "import pandas as pd\n",
    "import matplotlib.pyplot as plt\n",
    "\n",
    "from sklearn.datasets import load_iris\n",
    "from sklearn.model_selection import train_test_split\n",
    "from collections import Counter\n"
   ]
  },
  {
   "cell_type": "code",
   "execution_count": 120,
   "metadata": {},
   "outputs": [
    {
     "data": {
      "text/plain": [
       "<matplotlib.legend.Legend at 0x7f080342a358>"
      ]
     },
     "execution_count": 120,
     "metadata": {},
     "output_type": "execute_result"
    },
    {
     "data": {
      "image/png": "[encoded data removed]",
      "text/plain": [
       "<Figure size 432x288 with 1 Axes>"
      ]
     },
     "metadata": {},
     "output_type": "display_data"
    }
   ],
   "source": [
    "# load data\n",
    "iris = load_iris()\n",
    "df = pd.DataFrame(iris.data, columns = iris.feature_names)\n",
    "df['label'] = iris.target\n",
    "\n",
    "df.columns = ['sepal length', 'sepal width', 'petal length', 'petal width', 'label']\n",
    "# print(df[:50])\n",
    "\n",
    "X = np.array(df.iloc[:100, [0,1]])\n",
    "y = np.array(df.iloc[:100, [-1]])\n",
    "y = np.array([1 if i == 1 else -1 for i in y[:,-1]])\n",
    "\n",
    "plt.scatter(df[:50]['sepal length'], df[:50]['sepal width'], label='-1')\n",
    "plt.scatter(df[50:100]['sepal length'], df[50:100]['sepal width'], label='1')\n",
    "plt.xlabel('sepal length')\n",
    "plt.ylabel('sepal width')\n",
    "plt.legend()"
   ]
  },
  {
   "cell_type": "markdown",
   "metadata": {},
   "source": [
    "# kNN"
   ]
  },
  {
   "cell_type": "code",
   "execution_count": 121,
   "metadata": {},
   "outputs": [],
   "source": [
    "X_train, X_test, y_train, y_test = train_test_split(X, y, test_size = 0.2)"
   ]
  },
  {
   "cell_type": "code",
   "execution_count": 122,
   "metadata": {},
   "outputs": [],
   "source": [
    "class kNN:\n",
    "    def __init__(self, X, y, k, p = 2):\n",
    "        # k 为近邻点数量\n",
    "        # p 为距离量度\n",
    "        \n",
    "        self.X_train = X\n",
    "        self.y_train = y\n",
    "        self.k = k\n",
    "        self.p = p\n",
    "    \n",
    "    def predict(self, x):\n",
    "        dis_list = []\n",
    "        for i in range(len(X_train)):\n",
    "            dis = np.linalg.norm(x - self.X_train[i], ord = self.p)\n",
    "            dis_list.append([dis , self.y_train[i]])\n",
    "        dis_list = np.array(dis_list)\n",
    "        dis_list = dis_list[np.lexsort(dis_list[:,::-1].T)]\n",
    "        \n",
    "        dis_list = dis_list[:self.k,:]\n",
    "        label1 = 0\n",
    "        label2 = 0\n",
    "        for i in dis_list:\n",
    "            if i[1] == 1:\n",
    "                label1 = label1 +1\n",
    "            if i[1] == -1:\n",
    "                label2 = label2 +1\n",
    "            if label1 > label2:\n",
    "                return 1\n",
    "            else: return -1\n",
    "    \n",
    "    def accuracy(self, X_test, y_test):\n",
    "        right = 0\n",
    "        for X, y in zip(X_test, y_test):\n",
    "            label = self.predict(X)\n",
    "            if label == y:\n",
    "                right +=1\n",
    "            print('X is', X, 'the predict label is', label, 'the true label is', y)\n",
    "            \n",
    "        return print('the test accuracy is', right / len(X_test))"
   ]
  },
  {
   "cell_type": "code",
   "execution_count": 123,
   "metadata": {
    "scrolled": false
   },
   "outputs": [
    {
     "name": "stdout",
     "output_type": "stream",
     "text": [
      "X is [4.6 3.2] the predict label is -1 the true label is -1\n",
      "X is [4.6 3.1] the predict label is -1 the true label is -1\n",
      "X is [5.1 3.8] the predict label is -1 the true label is -1\n",
      "X is [6.  2.9] the predict label is 1 the true label is 1\n",
      "X is [5.8 2.7] the predict label is 1 the true label is 1\n",
      "X is [5.8 4. ] the predict label is -1 the true label is -1\n",
      "X is [5.5 2.4] the predict label is 1 the true label is 1\n",
      "X is [5.7 4.4] the predict label is -1 the true label is -1\n",
      "X is [6.7 3.1] the predict label is 1 the true label is 1\n",
      "X is [5.4 3.4] the predict label is -1 the true label is -1\n",
      "X is [5.7 3.8] the predict label is -1 the true label is -1\n",
      "X is [5.1 2.5] the predict label is 1 the true label is 1\n",
      "X is [5.3 3.7] the predict label is -1 the true label is -1\n",
      "X is [6.1 2.8] the predict label is 1 the true label is 1\n",
      "X is [5.1 3.7] the predict label is -1 the true label is -1\n",
      "X is [4.6 3.4] the predict label is -1 the true label is -1\n",
      "X is [4.7 3.2] the predict label is -1 the true label is -1\n",
      "X is [5.9 3.2] the predict label is 1 the true label is 1\n",
      "X is [5.5 3.5] the predict label is -1 the true label is -1\n",
      "X is [5.6 2.7] the predict label is 1 the true label is 1\n",
      "the test accuracy is 1.0\n"
     ]
    }
   ],
   "source": [
    "knn = kNN(X_train, y_train, k=3 )\n",
    "knn.accuracy(X_test, y_test)"
   ]
  },
  {
   "cell_type": "code",
   "execution_count": 124,
   "metadata": {},
   "outputs": [
    {
     "name": "stdout",
     "output_type": "stream",
     "text": [
      "Test Point Predict Label: 1\n"
     ]
    }
   ],
   "source": [
    "test_point = [6.5, 2.0]\n",
    "print('Test Point Predict Label: {}'.format(knn.predict(test_point)))"
   ]
  },
  {
   "cell_type": "code",
   "execution_count": 125,
   "metadata": {},
   "outputs": [
    {
     "data": {
      "text/plain": [
       "<matplotlib.legend.Legend at 0x7f08032d5128>"
      ]
     },
     "execution_count": 125,
     "metadata": {},
     "output_type": "execute_result"
    },
    {
     "data": {
      "image/png": "[encoded data removed]",
      "text/plain": [
       "<Figure size 432x288 with 1 Axes>"
      ]
     },
     "metadata": {},
     "output_type": "display_data"
    }
   ],
   "source": [
    "plt.scatter(df[:50]['sepal length'], df[:50]['sepal width'], label='-1')\n",
    "plt.scatter(df[50:100]['sepal length'], df[50:100]['sepal width'], label='1')\n",
    "plt.plot(test_point[0], test_point[1], 'bo', label='test_point')\n",
    "plt.xlabel('sepal length')\n",
    "plt.ylabel('sepal width')\n",
    "plt.legend()"
   ]
  }
 ],
 "metadata": {
  "kernelspec": {
   "display_name": "Python 3",
   "language": "python",
   "name": "python3"
  },
  "language_info": {
   "codemirror_mode": {
    "name": "ipython",
    "version": 3
   },
   "file_extension": ".py",
   "mimetype": "text/x-python",
   "name": "python",
   "nbconvert_exporter": "python",
   "pygments_lexer": "ipython3",
   "version": "3.6.5"
  }
 },
 "nbformat": 4,
 "nbformat_minor": 2
}
