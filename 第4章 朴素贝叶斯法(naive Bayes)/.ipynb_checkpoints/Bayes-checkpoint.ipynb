{
 "cells": [
  {
   "cell_type": "markdown",
   "metadata": {},
   "source": [
    "# Naive Bayes"
   ]
  },
  {
   "cell_type": "code",
   "execution_count": 1,
   "metadata": {},
   "outputs": [],
   "source": [
    "import numpy as np\n",
    "\n",
    "data = [[1,'S',-1],[1,'M',-1],[1,'M',1],[1,'S',1],[1,'S',-1],[2,'S',-1],[2,'M',-1],[2,'M',1],\n",
    "        [2,'L',1],[2,'L',1],[3,'L',1],[3,'M',1],[3,'M',1],[3,'L',1],[3,'L',-1]]\n",
    "\n",
    "data = np.array(data)"
   ]
  },
  {
   "cell_type": "code",
   "execution_count": 2,
   "metadata": {},
   "outputs": [],
   "source": [
    "def get_keys(d, value):\n",
    "    return [k for k,v in d.items() if v == value]"
   ]
  },
  {
   "cell_type": "code",
   "execution_count": 3,
   "metadata": {},
   "outputs": [],
   "source": [
    "def bayes(data,test,bayesian_estimation = False, lamdba = 1):\n",
    "    Y = ([x[-1] for x in data])\n",
    "    X = np.array([x[0:-1] for x in data])\n",
    "    P_Y = { }\n",
    "    P_X_Y = { }\n",
    "    \n",
    "    # 极大似然估计\n",
    "    if not bayesian_estimation:\n",
    "        # 先验概率\n",
    "        for i in np.unique(Y):\n",
    "            P_Y[i] = Y.count(i)/len(Y)\n",
    "\n",
    "        #print(\"先验概率：\", P_Y)\n",
    "    \n",
    "        # 条件概率\n",
    "        index = []\n",
    "        for i in np.unique(Y):\n",
    "            index.append([i, np.where(data[:,-1] == i)])\n",
    "        \n",
    "        for i in range(len(index)): \n",
    "            for m in range(len(X[0])):    \n",
    "                for j in np.unique(X[:,m]):\n",
    "                    subset = np.array(X[index[i][1]])\n",
    "            \n",
    "                    count_X = np.array(np.where(subset[:,m] == j)).size\n",
    "                    P_X_Y[(j, index[i][0])] = count_X / len(subset)\n",
    "        \n",
    "    \n",
    "        #print(\"条件概率：\", P_X_Y)\n",
    "        \n",
    "    # 贝叶斯估计\n",
    "    else:\n",
    "        # 先验概率\n",
    "        for i in np.unique(Y):\n",
    "           # P_Y.append([i,Y.count(i)/len(Y)])\n",
    "            P_Y[i] = (Y.count(i)+ lamdba)/ (len(Y)+ lamdba * len(np.unique(Y)))\n",
    "\n",
    "        #print(\"先验概率：\", P_Y)\n",
    "    \n",
    "        # 条件概率\n",
    "        index = []\n",
    "        for i in np.unique(Y):\n",
    "            index.append([i, np.where(data[:,-1] == i)])\n",
    "        \n",
    "        for i in range(len(index)): \n",
    "            for m in range(len(X[0])):    \n",
    "                for j in np.unique(X[:,m]):\n",
    "                    subset = np.array(X[index[i][1]])\n",
    "            \n",
    "                    count_X = np.array(np.where(subset[:,m] == j)).size\n",
    "                    #P_X_Y.append([j, index[i][0],count_X / len(subset)])\n",
    "                    P_X_Y[(j, index[i][0])] = (count_X + lamdba)/ ( len(subset) + lamdba * len(np.unique(X[:,m])))\n",
    "        \n",
    "    \n",
    "        #print(\"条件概率：\", P_X_Y)\n",
    "\n",
    "    # 后验概率\n",
    "    P_Y_X = { }\n",
    "    for i in np.unique(Y):\n",
    "        P_Y_X[i] = P_Y[i]\n",
    "        for j in range(len(x)):\n",
    "            P_Y_X[i] *= P_X_Y[(str(x[j]),i)]\n",
    "\n",
    "    print(\"后验概率：\", P_Y_X)\n",
    "    return get_keys(P_Y_X, max(P_Y_X.values()))  "
   ]
  },
  {
   "cell_type": "code",
   "execution_count": 4,
   "metadata": {},
   "outputs": [
    {
     "name": "stdout",
     "output_type": "stream",
     "text": [
      "后验概率： {'-1': 0.06100217864923746, '1': 0.0326797385620915}\n",
      "The predict label is ['-1'] the true label is -1\n"
     ]
    }
   ],
   "source": [
    "x = [2,'S']\n",
    "label = bayes(data,x,bayesian_estimation = True)    \n",
    "\n",
    "print(\"The predict label is\", label, \"the true label is\", -1)"
   ]
  }
 ],
 "metadata": {
  "kernelspec": {
   "display_name": "Python 3",
   "language": "python",
   "name": "python3"
  },
  "language_info": {
   "codemirror_mode": {
    "name": "ipython",
    "version": 3
   },
   "file_extension": ".py",
   "mimetype": "text/x-python",
   "name": "python",
   "nbconvert_exporter": "python",
   "pygments_lexer": "ipython3",
   "version": "3.6.5"
  }
 },
 "nbformat": 4,
 "nbformat_minor": 2
}
